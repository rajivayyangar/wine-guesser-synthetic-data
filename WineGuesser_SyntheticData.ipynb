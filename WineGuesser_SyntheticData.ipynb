{
 "cells": [
  {
   "cell_type": "markdown",
   "metadata": {},
   "source": [
    "# Wine Classifier\n",
    "Use the synthetic gold data set to build a classifier and guess wine.\n",
    "### Bugs/Tweaks:\n",
    "\n",
    "### Next Steps, ideas for improvement:"
   ]
  },
  {
   "cell_type": "code",
   "execution_count": 1,
   "metadata": {
    "collapsed": false
   },
   "outputs": [
    {
     "name": "stderr",
     "output_type": "stream",
     "text": [
      "[WARNING] Unable to write current GraphLab Create license to /Users/kanamyzin/.graphlab/config. Ensure that this user account has write permission to /Users/kanamyzin/.graphlab/config to save the license for offline use.\n",
      "[INFO] This non-commercial license of GraphLab Create is assigned to rajivayyangar@gmail.comand will expire on January 01, 2038. For commercial licensing options, visit https://dato.com/buy/.\n",
      "\n",
      "[INFO] Start server at: ipc:///tmp/graphlab_server-7658 - Server binary: /Library/Python/2.7/site-packages/graphlab/unity_server - Server log: /tmp/graphlab_server_1439946921.log\n",
      "[INFO] GraphLab Server Version: 1.5.2\n",
      "[WARNING] Unable to create session in specified location: '/Users/kanamyzin/.graphlab/artifacts'. Using: '/var/tmp/graphlab-kanamyzin/7658/tmp_session_3a83b8ff-f2f2-4bc5-924f-0c45a67686e4'\n"
     ]
    }
   ],
   "source": [
    "import random, sys, csv, datetime, re, pandas as pd, numpy as np, math\n",
    "from pandas import DataFrame, Series, date_range, concat\n",
    "import graphlab as gl;\n",
    "#%matplotlib inline"
   ]
  },
  {
   "cell_type": "code",
   "execution_count": 2,
   "metadata": {
    "collapsed": false
   },
   "outputs": [],
   "source": [
    "import TastingNoteParser as tnp\n",
    "import GoldDataGenerator as gdg\n",
    "import GoldDataFunctions as gdf"
   ]
  },
  {
   "cell_type": "code",
   "execution_count": 4,
   "metadata": {
    "collapsed": true
   },
   "outputs": [],
   "source": [
    "style_weights_dict = {'New Zealand Sauvignon Blanc':.2,\n",
    "                    'California Chardonnay':.2,\n",
    "                    'Alsace Pinot Gris':.2,\n",
    "                     'Savennieres Chenin Blanc':.2}\n"
   ]
  },
  {
   "cell_type": "code",
   "execution_count": 5,
   "metadata": {
    "collapsed": false
   },
   "outputs": [
    {
     "name": "stdout",
     "output_type": "stream",
     "text": [
      "PROGRESS: Finished parsing file /Users/kanamyzin/Documents/wineData/SyntheticData_Guesser/synthetic_gold_data.csv\n",
      "PROGRESS: Parsing completed. Parsed 80 lines in 0.042175 secs.\n",
      "------------------------------------------------------\n",
      "Inferred types from first line of file as \n",
      "column_type_hints=[int,int,str,int,str,int,int,int,str,int,str,int,int]\n",
      "If parsing fails due to incorrect types, you can correct\n",
      "the inferred type list above and pass it to read_csv in\n",
      "the column_type_hints argument\n",
      "------------------------------------------------------\n",
      "PROGRESS: Finished parsing file /Users/kanamyzin/Documents/wineData/SyntheticData_Guesser/synthetic_gold_data.csv\n",
      "PROGRESS: Parsing completed. Parsed 80 lines in 0.015907 secs.\n"
     ]
    }
   ],
   "source": [
    "data = gl.SFrame.read_csv('synthetic_gold_data.csv');"
   ]
  },
  {
   "cell_type": "code",
   "execution_count": 6,
   "metadata": {
    "collapsed": false
   },
   "outputs": [
    {
     "data": {
      "text/html": [
       "<div style=\"max-height:1000px;max-width:1500px;overflow:auto;\"><table frame=\"box\" rules=\"cols\">\n",
       "    <tr>\n",
       "        <th style=\"padding-left: 1em; padding-right: 1em; text-align: center\">X1</th>\n",
       "        <th style=\"padding-left: 1em; padding-right: 1em; text-align: center\">botrytis</th>\n",
       "        <th style=\"padding-left: 1em; padding-right: 1em; text-align: center\">color_concentration</th>\n",
       "        <th style=\"padding-left: 1em; padding-right: 1em; text-align: center\">floral</th>\n",
       "        <th style=\"padding-left: 1em; padding-right: 1em; text-align: center\">hue</th>\n",
       "        <th style=\"padding-left: 1em; padding-right: 1em; text-align: center\">oak</th>\n",
       "        <th style=\"padding-left: 1em; padding-right: 1em; text-align: center\">pommaceous_fruit</th>\n",
       "        <th style=\"padding-left: 1em; padding-right: 1em; text-align: center\">pyrazines</th>\n",
       "        <th style=\"padding-left: 1em; padding-right: 1em; text-align: center\">residual_sugar</th>\n",
       "        <th style=\"padding-left: 1em; padding-right: 1em; text-align: center\">stone_fruit</th>\n",
       "    </tr>\n",
       "    <tr>\n",
       "        <td style=\"padding-left: 1em; padding-right: 1em; text-align: center; vertical-align: top\">0</td>\n",
       "        <td style=\"padding-left: 1em; padding-right: 1em; text-align: center; vertical-align: top\">0</td>\n",
       "        <td style=\"padding-left: 1em; padding-right: 1em; text-align: center; vertical-align: top\">light</td>\n",
       "        <td style=\"padding-left: 1em; padding-right: 1em; text-align: center; vertical-align: top\">0</td>\n",
       "        <td style=\"padding-left: 1em; padding-right: 1em; text-align: center; vertical-align: top\">yellow</td>\n",
       "        <td style=\"padding-left: 1em; padding-right: 1em; text-align: center; vertical-align: top\">0</td>\n",
       "        <td style=\"padding-left: 1em; padding-right: 1em; text-align: center; vertical-align: top\">0</td>\n",
       "        <td style=\"padding-left: 1em; padding-right: 1em; text-align: center; vertical-align: top\">1</td>\n",
       "        <td style=\"padding-left: 1em; padding-right: 1em; text-align: center; vertical-align: top\">dry</td>\n",
       "        <td style=\"padding-left: 1em; padding-right: 1em; text-align: center; vertical-align: top\">0</td>\n",
       "    </tr>\n",
       "</table>\n",
       "<table frame=\"box\" rules=\"cols\">\n",
       "    <tr>\n",
       "        <th style=\"padding-left: 1em; padding-right: 1em; text-align: center\">style_name</th>\n",
       "        <th style=\"padding-left: 1em; padding-right: 1em; text-align: center\">terpenes</th>\n",
       "        <th style=\"padding-left: 1em; padding-right: 1em; text-align: center\">thiols</th>\n",
       "    </tr>\n",
       "    <tr>\n",
       "        <td style=\"padding-left: 1em; padding-right: 1em; text-align: center; vertical-align: top\">New Zealand Sauvignon<br>Blanc ...</td>\n",
       "        <td style=\"padding-left: 1em; padding-right: 1em; text-align: center; vertical-align: top\">0</td>\n",
       "        <td style=\"padding-left: 1em; padding-right: 1em; text-align: center; vertical-align: top\">1</td>\n",
       "    </tr>\n",
       "</table>\n",
       "[1 rows x 13 columns]<br/>\n",
       "</div>"
      ],
      "text/plain": [
       "Columns:\n",
       "\tX1\tint\n",
       "\tbotrytis\tint\n",
       "\tcolor_concentration\tstr\n",
       "\tfloral\tint\n",
       "\thue\tstr\n",
       "\toak\tint\n",
       "\tpommaceous_fruit\tint\n",
       "\tpyrazines\tint\n",
       "\tresidual_sugar\tstr\n",
       "\tstone_fruit\tint\n",
       "\tstyle_name\tstr\n",
       "\tterpenes\tint\n",
       "\tthiols\tint\n",
       "\n",
       "Rows: 1\n",
       "\n",
       "Data:\n",
       "+----+----------+---------------------+--------+--------+-----+------------------+\n",
       "| X1 | botrytis | color_concentration | floral |  hue   | oak | pommaceous_fruit |\n",
       "+----+----------+---------------------+--------+--------+-----+------------------+\n",
       "| 0  |    0     |        light        |   0    | yellow |  0  |        0         |\n",
       "+----+----------+---------------------+--------+--------+-----+------------------+\n",
       "+-----------+----------------+-------------+-----------------------------+----------+\n",
       "| pyrazines | residual_sugar | stone_fruit |          style_name         | terpenes |\n",
       "+-----------+----------------+-------------+-----------------------------+----------+\n",
       "|     1     |      dry       |      0      | New Zealand Sauvignon Blanc |    0     |\n",
       "+-----------+----------------+-------------+-----------------------------+----------+\n",
       "+--------+\n",
       "| thiols |\n",
       "+--------+\n",
       "|   1    |\n",
       "+--------+\n",
       "[1 rows x 13 columns]"
      ]
     },
     "execution_count": 6,
     "metadata": {},
     "output_type": "execute_result"
    }
   ],
   "source": [
    "data.head(1)"
   ]
  },
  {
   "cell_type": "code",
   "execution_count": 9,
   "metadata": {
    "collapsed": false
   },
   "outputs": [
    {
     "name": "stdout",
     "output_type": "stream",
     "text": [
      "Canvas is accessible via web browser at the URL: http://localhost:64078/index.html\n",
      "Opening Canvas in default web browser.\n"
     ]
    }
   ],
   "source": [
    "data.show()"
   ]
  },
  {
   "cell_type": "code",
   "execution_count": 10,
   "metadata": {
    "collapsed": false
   },
   "outputs": [
    {
     "data": {
      "text/plain": [
       "80"
      ]
     },
     "execution_count": 10,
     "metadata": {},
     "output_type": "execute_result"
    }
   ],
   "source": [
    "#train_set, test_set = data.random_split(0.9)\n",
    "train_set = data\n",
    "test_set = data\n",
    "len(test_set)"
   ]
  },
  {
   "cell_type": "code",
   "execution_count": 12,
   "metadata": {
    "collapsed": false
   },
   "outputs": [
    {
     "name": "stdout",
     "output_type": "stream",
     "text": [
      "PROGRESS: Boosted trees classifier:\n",
      "PROGRESS: --------------------------------------------------------\n",
      "PROGRESS: Number of examples          : 80\n",
      "PROGRESS: Number of classes           : 4\n",
      "PROGRESS: Number of feature columns   : 9\n",
      "PROGRESS: Number of unpacked features : 9\n",
      "PROGRESS: Starting Boosted Trees\n",
      "PROGRESS: --------------------------------------------------------\n",
      "PROGRESS:   Iter    Accuracy Elapsed time\n",
      "PROGRESS:      0   9.250e-01        0.00s\n"
     ]
    }
   ],
   "source": [
    "model = gl.boosted_trees_classifier.create(\n",
    "train_set, \n",
    "target = 'style_name', \n",
    "max_iterations = 1,\n",
    "class_weights = style_weights_dict,\n",
    "features = ['botrytis',\n",
    "'color_concentration',\n",
    "'floral',\n",
    "'hue',\n",
    "'pyrazines',\n",
    "'residual_sugar',\n",
    "'stone_fruit',\n",
    "'terpenes',\n",
    "'thiols']);"
   ]
  },
  {
   "cell_type": "code",
   "execution_count": 13,
   "metadata": {
    "collapsed": false
   },
   "outputs": [
    {
     "data": {
      "text/plain": [
       "<bound method BoostedTreesClassifier.get of Class                         : BoostedTreesClassifier\n",
       "\n",
       "Schema\n",
       "------\n",
       "Number of examples            : 80\n",
       "Number of classes             : 4\n",
       "Number of feature columns     : 9\n",
       "Number of unpacked features   : 9\n",
       "\n",
       "Settings\n",
       "--------\n",
       "Number of trees               : 4\n",
       "Max tree depth                : 6\n",
       "Train accuracy                : 0.925\n",
       "Validation accuracy           : None\n",
       "Training time (sec)           : 0.0053\n",
       ">"
      ]
     },
     "execution_count": 13,
     "metadata": {},
     "output_type": "execute_result"
    }
   ],
   "source": [
    "model.get"
   ]
  },
  {
   "cell_type": "code",
   "execution_count": 14,
   "metadata": {
    "collapsed": false
   },
   "outputs": [
    {
     "data": {
      "text/plain": [
       "dtype: str\n",
       "Rows: 10\n",
       "['New Zealand Sauvignon Blanc', 'New Zealand Sauvignon Blanc', 'New Zealand Sauvignon Blanc', 'New Zealand Sauvignon Blanc', 'New Zealand Sauvignon Blanc', 'New Zealand Sauvignon Blanc', 'New Zealand Sauvignon Blanc', 'New Zealand Sauvignon Blanc', 'New Zealand Sauvignon Blanc', 'New Zealand Sauvignon Blanc']"
      ]
     },
     "execution_count": 14,
     "metadata": {},
     "output_type": "execute_result"
    }
   ],
   "source": [
    "predictions = model.predict(test_set)\n",
    "predictions.head()"
   ]
  },
  {
   "cell_type": "code",
   "execution_count": 15,
   "metadata": {
    "collapsed": false
   },
   "outputs": [
    {
     "data": {
      "text/plain": [
       "{'accuracy': 0.925, 'confusion_matrix': Columns:\n",
       " \ttarget_label\tstr\n",
       " \tpredicted_label\tstr\n",
       " \tcount\tint\n",
       " \n",
       " Rows: 8\n",
       " \n",
       " Data:\n",
       " +-----------------------------+-----------------------------+-------+\n",
       " |         target_label        |       predicted_label       | count |\n",
       " +-----------------------------+-----------------------------+-------+\n",
       " |    California Chardonnay    | New Zealand Sauvignon Blanc |   1   |\n",
       " |   Savennieres Chenin Blanc  |    California Chardonnay    |   1   |\n",
       " |    California Chardonnay    |    California Chardonnay    |   16  |\n",
       " |      Alsace Pinot Gris      |   Savennieres Chenin Blanc  |   1   |\n",
       " |   Savennieres Chenin Blanc  |   Savennieres Chenin Blanc  |   19  |\n",
       " |    California Chardonnay    |   Savennieres Chenin Blanc  |   3   |\n",
       " |      Alsace Pinot Gris      |      Alsace Pinot Gris      |   19  |\n",
       " | New Zealand Sauvignon Blanc | New Zealand Sauvignon Blanc |   20  |\n",
       " +-----------------------------+-----------------------------+-------+\n",
       " [8 rows x 3 columns]}"
      ]
     },
     "execution_count": 15,
     "metadata": {},
     "output_type": "execute_result"
    }
   ],
   "source": [
    "model.evaluate(test_set)"
   ]
  },
  {
   "cell_type": "code",
   "execution_count": 17,
   "metadata": {
    "collapsed": false
   },
   "outputs": [
    {
     "name": "stdout",
     "output_type": "stream",
     "text": [
      "New Zealand Sauvignon Blanc\n",
      "New Zealand Sauvignon Blanc\n",
      "New Zealand Sauvignon Blanc\n",
      "New Zealand Sauvignon Blanc\n",
      "New Zealand Sauvignon Blanc\n",
      "New Zealand Sauvignon Blanc\n",
      "New Zealand Sauvignon Blanc\n",
      "New Zealand Sauvignon Blanc\n",
      "New Zealand Sauvignon Blanc\n",
      "New Zealand Sauvignon Blanc\n",
      "New Zealand Sauvignon Blanc\n",
      "New Zealand Sauvignon Blanc\n",
      "New Zealand Sauvignon Blanc\n",
      "New Zealand Sauvignon Blanc\n",
      "New Zealand Sauvignon Blanc\n",
      "New Zealand Sauvignon Blanc\n",
      "New Zealand Sauvignon Blanc\n",
      "New Zealand Sauvignon Blanc\n",
      "New Zealand Sauvignon Blanc\n",
      "New Zealand Sauvignon Blanc\n",
      "Alsace Pinot Gris\n",
      "Alsace Pinot Gris\n",
      "Alsace Pinot Gris\n",
      "Alsace Pinot Gris\n",
      "Alsace Pinot Gris\n",
      "Alsace Pinot Gris\n",
      "Alsace Pinot Gris\n",
      "Alsace Pinot Gris\n",
      "Savennieres Chenin Blanc\n",
      "{'hue': 'straw', 'terpenes': 0, 'pommaceous_fruit': 1, 'thiols': 0, 'color_concentration': 'moderate', 'oak': 0, 'floral': 0, 'residual_sugar': 'dry', 'style_name': 'Alsace Pinot Gris', 'stone_fruit': 1, 'botrytis': 0, 'X1': 8, 'pyrazines': 0}\n",
      "Alsace Pinot Gris\n",
      "Alsace Pinot Gris\n",
      "Alsace Pinot Gris\n",
      "Alsace Pinot Gris\n",
      "Alsace Pinot Gris\n",
      "Alsace Pinot Gris\n",
      "Alsace Pinot Gris\n",
      "Alsace Pinot Gris\n",
      "Alsace Pinot Gris\n",
      "Alsace Pinot Gris\n",
      "Alsace Pinot Gris\n",
      "Savennieres Chenin Blanc\n",
      "Savennieres Chenin Blanc\n",
      "Savennieres Chenin Blanc\n",
      "Savennieres Chenin Blanc\n",
      "Savennieres Chenin Blanc\n",
      "Savennieres Chenin Blanc\n",
      "Savennieres Chenin Blanc\n",
      "Savennieres Chenin Blanc\n",
      "Savennieres Chenin Blanc\n",
      "Savennieres Chenin Blanc\n",
      "Savennieres Chenin Blanc\n",
      "Savennieres Chenin Blanc\n",
      "Savennieres Chenin Blanc\n",
      "Savennieres Chenin Blanc\n",
      "Savennieres Chenin Blanc\n",
      "California Chardonnay\n",
      "{'hue': 'yellow', 'terpenes': 0, 'pommaceous_fruit': 1, 'thiols': 0, 'color_concentration': 'moderate', 'oak': 0, 'floral': 0, 'residual_sugar': 'dry', 'style_name': 'Savennieres Chenin Blanc', 'stone_fruit': 0, 'botrytis': 0, 'X1': 15, 'pyrazines': 0}\n",
      "Savennieres Chenin Blanc\n",
      "Savennieres Chenin Blanc\n",
      "Savennieres Chenin Blanc\n",
      "Savennieres Chenin Blanc\n",
      "California Chardonnay\n",
      "California Chardonnay\n",
      "California Chardonnay\n",
      "Savennieres Chenin Blanc\n",
      "{'hue': 'gold', 'terpenes': 0, 'pommaceous_fruit': 1, 'thiols': 1, 'color_concentration': 'moderate', 'oak': 1, 'floral': 0, 'residual_sugar': 'dry', 'style_name': 'California Chardonnay', 'stone_fruit': 1, 'botrytis': 0, 'X1': 3, 'pyrazines': 0}\n",
      "California Chardonnay\n",
      "California Chardonnay\n",
      "California Chardonnay\n",
      "California Chardonnay\n",
      "California Chardonnay\n",
      "California Chardonnay\n",
      "California Chardonnay\n",
      "California Chardonnay\n",
      "New Zealand Sauvignon Blanc\n",
      "{'hue': 'straw', 'terpenes': 0, 'pommaceous_fruit': 1, 'thiols': 1, 'color_concentration': 'moderate', 'oak': 1, 'floral': 0, 'residual_sugar': 'dry', 'style_name': 'California Chardonnay', 'stone_fruit': 0, 'botrytis': 0, 'X1': 12, 'pyrazines': 0}\n",
      "Savennieres Chenin Blanc\n",
      "{'hue': 'yellow', 'terpenes': 0, 'pommaceous_fruit': 1, 'thiols': 1, 'color_concentration': 'elevated', 'oak': 1, 'floral': 0, 'residual_sugar': 'dry', 'style_name': 'California Chardonnay', 'stone_fruit': 0, 'botrytis': 0, 'X1': 13, 'pyrazines': 0}\n",
      "California Chardonnay\n",
      "California Chardonnay\n",
      "Savennieres Chenin Blanc\n",
      "{'hue': 'gold', 'terpenes': 0, 'pommaceous_fruit': 1, 'thiols': 1, 'color_concentration': 'elevated', 'oak': 0, 'floral': 0, 'residual_sugar': 'dry', 'style_name': 'California Chardonnay', 'stone_fruit': 0, 'botrytis': 0, 'X1': 16, 'pyrazines': 0}\n",
      "California Chardonnay\n",
      "California Chardonnay\n",
      "California Chardonnay\n"
     ]
    }
   ],
   "source": [
    "predictions = model.predict(test_set)\n",
    "for i in range(len(predictions)):\n",
    "    if (test_set[i]['style_name'] == predictions[i]):\n",
    "        print predictions[i]\n",
    "    else:\n",
    "        print predictions[i]\n",
    "        print test_set[i]"
   ]
  },
  {
   "cell_type": "code",
   "execution_count": null,
   "metadata": {
    "collapsed": false
   },
   "outputs": [],
   "source": []
  },
  {
   "cell_type": "code",
   "execution_count": null,
   "metadata": {
    "collapsed": false
   },
   "outputs": [],
   "source": []
  },
  {
   "cell_type": "code",
   "execution_count": 40,
   "metadata": {
    "collapsed": false
   },
   "outputs": [],
   "source": [
    "string = 'dry, light color_concentration, straw, thiols, pyrazines'"
   ]
  },
  {
   "cell_type": "code",
   "execution_count": 41,
   "metadata": {
    "collapsed": false
   },
   "outputs": [
    {
     "name": "stdout",
     "output_type": "stream",
     "text": [
      "hue recognized as straw\n",
      "color_concentration recognized as light\n",
      "['dry', 'light color_concentration', 'straw', 'thiols', 'pyrazines']\n",
      "+----+-----------------------------+----------------+\n",
      "| id |            class            |  probability   |\n",
      "+----+-----------------------------+----------------+\n",
      "| 0  |    California Chardonnay    | 0.326961154212 |\n",
      "| 0  | New Zealand Sauvignon Blanc | 0.253660108159 |\n",
      "| 0  |   Savennieres Chenin Blanc  | 0.21089910173  |\n",
      "+----+-----------------------------+----------------+\n",
      "[3 rows x 3 columns]\n",
      "\n"
     ]
    },
    {
     "data": {
      "text/plain": [
       "{'botrytis': 0,\n",
       " 'color_concentration': 'light',\n",
       " 'floral': 0,\n",
       " 'hue': 'straw',\n",
       " 'oak': 0,\n",
       " 'pommaceous_fruit': 0,\n",
       " 'pyrazines': 0,\n",
       " 'residual_sugar': 'dry',\n",
       " 'stone_fruit': 0,\n",
       " 'terpenes': 0,\n",
       " 'thiols': 0}"
      ]
     },
     "execution_count": 41,
     "metadata": {},
     "output_type": "execute_result"
    }
   ],
   "source": [
    "\n",
    "def guessWine(tastingNote):\n",
    "    grid=tnp.getAttributes(tastingNote)\n",
    "    tasting_note = gl.SFrame(data=pd.DataFrame([grid]))\n",
    "    print model.predict_topk(tasting_note)\n",
    "    return grid\n",
    "\n",
    "guessWine(string)"
   ]
  },
  {
   "cell_type": "code",
   "execution_count": null,
   "metadata": {
    "collapsed": false
   },
   "outputs": [],
   "source": []
  },
  {
   "cell_type": "code",
   "execution_count": null,
   "metadata": {
    "collapsed": false
   },
   "outputs": [],
   "source": []
  },
  {
   "cell_type": "code",
   "execution_count": 43,
   "metadata": {
    "collapsed": false
   },
   "outputs": [
    {
     "name": "stdout",
     "output_type": "stream",
     "text": [
      "Canvas is updated and available in a tab in the default browser.\n"
     ]
    }
   ],
   "source": [
    "model.show(view='Tree',tree_id=1,vlabel_hover=False)"
   ]
  },
  {
   "cell_type": "code",
   "execution_count": null,
   "metadata": {
    "collapsed": false
   },
   "outputs": [],
   "source": []
  },
  {
   "cell_type": "code",
   "execution_count": null,
   "metadata": {
    "collapsed": true
   },
   "outputs": [],
   "source": []
  },
  {
   "cell_type": "code",
   "execution_count": null,
   "metadata": {
    "collapsed": true
   },
   "outputs": [],
   "source": []
  },
  {
   "cell_type": "code",
   "execution_count": null,
   "metadata": {
    "collapsed": true
   },
   "outputs": [],
   "source": []
  },
  {
   "cell_type": "code",
   "execution_count": null,
   "metadata": {
    "collapsed": true
   },
   "outputs": [],
   "source": []
  },
  {
   "cell_type": "code",
   "execution_count": null,
   "metadata": {
    "collapsed": true
   },
   "outputs": [],
   "source": []
  },
  {
   "cell_type": "code",
   "execution_count": null,
   "metadata": {
    "collapsed": true
   },
   "outputs": [],
   "source": []
  },
  {
   "cell_type": "code",
   "execution_count": null,
   "metadata": {
    "collapsed": true
   },
   "outputs": [],
   "source": []
  },
  {
   "cell_type": "code",
   "execution_count": null,
   "metadata": {
    "collapsed": true
   },
   "outputs": [],
   "source": []
  },
  {
   "cell_type": "code",
   "execution_count": null,
   "metadata": {
    "collapsed": true
   },
   "outputs": [],
   "source": []
  },
  {
   "cell_type": "code",
   "execution_count": null,
   "metadata": {
    "collapsed": true
   },
   "outputs": [],
   "source": []
  },
  {
   "cell_type": "code",
   "execution_count": null,
   "metadata": {
    "collapsed": true
   },
   "outputs": [],
   "source": []
  },
  {
   "cell_type": "code",
   "execution_count": null,
   "metadata": {
    "collapsed": true
   },
   "outputs": [],
   "source": []
  },
  {
   "cell_type": "code",
   "execution_count": null,
   "metadata": {
    "collapsed": true
   },
   "outputs": [],
   "source": []
  }
 ],
 "metadata": {
  "kernelspec": {
   "display_name": "Python 2",
   "language": "python",
   "name": "python2"
  },
  "language_info": {
   "codemirror_mode": {
    "name": "ipython",
    "version": 2
   },
   "file_extension": ".py",
   "mimetype": "text/x-python",
   "name": "python",
   "nbconvert_exporter": "python",
   "pygments_lexer": "ipython2",
   "version": "2.7.6"
  }
 },
 "nbformat": 4,
 "nbformat_minor": 0
}
