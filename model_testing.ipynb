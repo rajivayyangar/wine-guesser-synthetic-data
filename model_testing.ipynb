{
 "cells": [
  {
   "cell_type": "code",
   "execution_count": 1,
   "metadata": {
    "collapsed": true
   },
   "outputs": [],
   "source": [
    "%%capture\n",
    "import random, sys, csv, datetime, re, pandas as pd, numpy as np, math\n",
    "from pandas import DataFrame, Series, date_range, concat\n",
    "import graphlab as gl;\n",
    "import TastingNoteParser as tnp\n",
    "import GoldDataGenerator as gdg\n",
    "import GoldDataFunctions as gdf"
   ]
  },
  {
   "cell_type": "code",
   "execution_count": 2,
   "metadata": {
    "collapsed": true
   },
   "outputs": [],
   "source": [
    "def guessWine(tastingNote):\n",
    "    grid=tnp.getAttributes(tastingNote)\n",
    "    tasting_note = gl.SFrame(data=pd.DataFrame([grid]))\n",
    "    print\n",
    "    print 'Guesses'\n",
    "    print model.predict_topk(tasting_note,k=5, output_type='rank')\n",
    "    print 'Supporting Features'\n",
    "    model.get_feature_importance().to_dataframe().to_csv('feature_importance_test.csv')\n",
    "    print rankFeatures(tasting_note, model.get_feature_importance())\n",
    "    return (tasting_note, model.get_feature_importance())\n",
    "def rankFeatures(note,features):\n",
    "    nt=note.to_dataframe().transpose()\n",
    "    f=features.to_dataframe()\n",
    "    ntr=nt.reset_index(level=0)\n",
    "    ntr.columns = ['name','index']\n",
    "    a=ntr.apply(lambda x: [x[0],True] if x[1]==1 else [x[0],0] if x[1]==0 else x, axis=1)\n",
    "    a.columns=['feature','value']\n",
    "    f.columns=['feature','value','count']\n",
    "    return pd.merge(f,a, on=['feature','value'],suffixes=('_x', '_y')).sort_values(by='count',ascending=False)"
   ]
  },
  {
   "cell_type": "code",
   "execution_count": 3,
   "metadata": {
    "collapsed": false
   },
   "outputs": [],
   "source": [
    "model=gl.load_model('boosted_trees_wine_classifier')"
   ]
  },
  {
   "cell_type": "markdown",
   "metadata": {},
   "source": [
    "Use this tasting note builder:\n",
    "https://docs.google.com/spreadsheets/d/1f7uo4xm2tq4oQr0x4rsf0UAv0z9GNKloAUBJSPYjzNQ/edit#gid=902392245"
   ]
  },
  {
   "cell_type": "code",
   "execution_count": 18,
   "metadata": {
    "collapsed": false
   },
   "outputs": [],
   "source": [
    "tn = 'yellow, moderate color_concentration, dry, moderate alcohol, high acid, , , , , pommaceous_fruit, , low_terpenes, , , oxidation, , , '\t\t\t"
   ]
  },
  {
   "cell_type": "code",
   "execution_count": 19,
   "metadata": {
    "collapsed": false
   },
   "outputs": [
    {
     "name": "stdout",
     "output_type": "stream",
     "text": [
      "sweetness recognized as dry\n",
      "hue recognized as yellow\n",
      "color_concentration recognized as moderate\n",
      "alcohol recognized as moderate\n",
      "acid recognized as high\n",
      "recognized low_terpenes\n",
      "recognized pommaceous_fruit\n",
      "recognized oxidation\n",
      "\n",
      "Guesses\n",
      "+----+----------------------+------+\n",
      "| id |        class         | rank |\n",
      "+----+----------------------+------+\n",
      "| 0  |     Savennieres      |  0   |\n",
      "| 0  | Riesling (Australia) |  1   |\n",
      "| 0  |       Albarino       |  2   |\n",
      "| 0  |  Riesling (Alsace)   |  3   |\n",
      "| 0  |  Alsace Pinot Gris   |  4   |\n",
      "+----+----------------------+------+\n",
      "[5 rows x 3 columns]\n",
      "\n",
      "Supporting Features\n",
      "               feature     value  count\n",
      "0                  hue    yellow    300\n",
      "1              alcohol  moderate    291\n",
      "2                 acid      high    282\n",
      "3       residual_sugar       dry    260\n",
      "4  color_concentration  moderate    240\n"
     ]
    }
   ],
   "source": [
    "note, features = guessWine(tn);"
   ]
  },
  {
   "cell_type": "code",
   "execution_count": 15,
   "metadata": {
    "collapsed": false
   },
   "outputs": [
    {
     "data": {
      "text/html": [
       "<div style=\"max-height:1000px;max-width:1500px;overflow:auto;\"><table frame=\"box\" rules=\"cols\">\n",
       "    <tr>\n",
       "        <th style=\"padding-left: 1em; padding-right: 1em; text-align: center\">name</th>\n",
       "        <th style=\"padding-left: 1em; padding-right: 1em; text-align: center\">index</th>\n",
       "        <th style=\"padding-left: 1em; padding-right: 1em; text-align: center\">count</th>\n",
       "    </tr>\n",
       "    <tr>\n",
       "        <td style=\"padding-left: 1em; padding-right: 1em; text-align: center; vertical-align: top\">high_terpenes</td>\n",
       "        <td style=\"padding-left: 1em; padding-right: 1em; text-align: center; vertical-align: top\">None</td>\n",
       "        <td style=\"padding-left: 1em; padding-right: 1em; text-align: center; vertical-align: top\">345</td>\n",
       "    </tr>\n",
       "</table>\n",
       "[? rows x 3 columns]<br/>Note: Only the head of the SFrame is printed. This SFrame is lazily evaluated.<br/>You can use len(sf) to force materialization.\n",
       "</div>"
      ],
      "text/plain": [
       "Columns:\n",
       "\tname\tstr\n",
       "\tindex\tstr\n",
       "\tcount\tint\n",
       "\n",
       "Rows: Unknown\n",
       "\n",
       "Data:\n",
       "+---------------+-------+-------+\n",
       "|      name     | index | count |\n",
       "+---------------+-------+-------+\n",
       "| high_terpenes |  None |  345  |\n",
       "+---------------+-------+-------+\n",
       "[? rows x 3 columns]\n",
       "Note: Only the head of the SFrame is printed. This SFrame is lazily evaluated.\n",
       "You can use len(sf) to force materialization."
      ]
     },
     "execution_count": 15,
     "metadata": {},
     "output_type": "execute_result"
    }
   ],
   "source": [
    "features[features['name']=='high_terpenes']"
   ]
  },
  {
   "cell_type": "code",
   "execution_count": 12,
   "metadata": {
    "collapsed": false
   },
   "outputs": [
    {
     "data": {
      "text/html": [
       "<div>\n",
       "<table border=\"1\" class=\"dataframe\">\n",
       "  <thead>\n",
       "    <tr style=\"text-align: right;\">\n",
       "      <th></th>\n",
       "      <th>feature</th>\n",
       "      <th>value</th>\n",
       "      <th>count</th>\n",
       "    </tr>\n",
       "  </thead>\n",
       "  <tbody>\n",
       "    <tr>\n",
       "      <th>0</th>\n",
       "      <td>hue</td>\n",
       "      <td>straw</td>\n",
       "      <td>320</td>\n",
       "    </tr>\n",
       "    <tr>\n",
       "      <th>1</th>\n",
       "      <td>alcohol</td>\n",
       "      <td>moderate</td>\n",
       "      <td>291</td>\n",
       "    </tr>\n",
       "    <tr>\n",
       "      <th>2</th>\n",
       "      <td>acid</td>\n",
       "      <td>high</td>\n",
       "      <td>282</td>\n",
       "    </tr>\n",
       "    <tr>\n",
       "      <th>3</th>\n",
       "      <td>residual_sugar</td>\n",
       "      <td>dry</td>\n",
       "      <td>260</td>\n",
       "    </tr>\n",
       "    <tr>\n",
       "      <th>4</th>\n",
       "      <td>color_concentration</td>\n",
       "      <td>moderate</td>\n",
       "      <td>240</td>\n",
       "    </tr>\n",
       "  </tbody>\n",
       "</table>\n",
       "</div>"
      ],
      "text/plain": [
       "               feature     value  count\n",
       "0                  hue     straw    320\n",
       "1              alcohol  moderate    291\n",
       "2                 acid      high    282\n",
       "3       residual_sugar       dry    260\n",
       "4  color_concentration  moderate    240"
      ]
     },
     "execution_count": 12,
     "metadata": {},
     "output_type": "execute_result"
    }
   ],
   "source": [
    "rankFeatures(note,features)"
   ]
  },
  {
   "cell_type": "code",
   "execution_count": null,
   "metadata": {
    "collapsed": false
   },
   "outputs": [],
   "source": []
  },
  {
   "cell_type": "code",
   "execution_count": 8,
   "metadata": {
    "collapsed": false
   },
   "outputs": [
    {
     "name": "stdout",
     "output_type": "stream",
     "text": [
      "Canvas is accessible via web browser at the URL: http://localhost:58140/index.html\n",
      "Opening Canvas in default web browser.\n"
     ]
    }
   ],
   "source": [
    "model.show(view='Tree',tree_id=0, vlabel_hover=True)"
   ]
  },
  {
   "cell_type": "code",
   "execution_count": null,
   "metadata": {
    "collapsed": true
   },
   "outputs": [],
   "source": []
  }
 ],
 "metadata": {
  "kernelspec": {
   "display_name": "Python 2",
   "language": "python",
   "name": "python2"
  },
  "language_info": {
   "codemirror_mode": {
    "name": "ipython",
    "version": 2
   },
   "file_extension": ".py",
   "mimetype": "text/x-python",
   "name": "python",
   "nbconvert_exporter": "python",
   "pygments_lexer": "ipython2",
   "version": "2.7.11"
  }
 },
 "nbformat": 4,
 "nbformat_minor": 0
}
